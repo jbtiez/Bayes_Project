{
 "cells": [
  {
   "cell_type": "code",
   "execution_count": 202,
   "metadata": {},
   "outputs": [],
   "source": [
    "import os\n",
    "import numpy as np\n",
    "import pandas as pd\n",
    "import pymc3 as pm\n",
    "import matplotlib.pyplot as plt\n",
    "import seaborn as sns\n",
    "from pymc3 import Model, sample, Normal, HalfCauchy, Uniform, model_to_graphviz\n",
    "import scipy.stats as stats"
   ]
  },
  {
   "cell_type": "markdown",
   "metadata": {},
   "source": [
    "## Data Cleaning and Preparation"
   ]
  },
  {
   "cell_type": "code",
   "execution_count": 164,
   "metadata": {},
   "outputs": [],
   "source": [
    "os.chdir('C:/Users/Jason/Documents/Data Science/Fall 2019/Baysian Machine Learning/Project')"
   ]
  },
  {
   "cell_type": "code",
   "execution_count": 185,
   "metadata": {},
   "outputs": [],
   "source": [
    "ed_data = pd.read_csv('ed_data.csv')\n",
    "ed_data = ed_data.iloc[:,1:9] #removing the first index row"
   ]
  },
  {
   "cell_type": "code",
   "execution_count": 186,
   "metadata": {},
   "outputs": [
    {
     "data": {
      "text/html": [
       "<div>\n",
       "<style scoped>\n",
       "    .dataframe tbody tr th:only-of-type {\n",
       "        vertical-align: middle;\n",
       "    }\n",
       "\n",
       "    .dataframe tbody tr th {\n",
       "        vertical-align: top;\n",
       "    }\n",
       "\n",
       "    .dataframe thead th {\n",
       "        text-align: right;\n",
       "    }\n",
       "</style>\n",
       "<table border=\"1\" class=\"dataframe\">\n",
       "  <thead>\n",
       "    <tr style=\"text-align: right;\">\n",
       "      <th></th>\n",
       "      <th>Race</th>\n",
       "      <th>Gender</th>\n",
       "      <th>Disadvantaged</th>\n",
       "      <th>ESOL</th>\n",
       "      <th>Disabled</th>\n",
       "    </tr>\n",
       "  </thead>\n",
       "  <tbody>\n",
       "    <tr>\n",
       "      <th>0</th>\n",
       "      <td>Black</td>\n",
       "      <td>Female</td>\n",
       "      <td>0</td>\n",
       "      <td>0</td>\n",
       "      <td>0</td>\n",
       "    </tr>\n",
       "    <tr>\n",
       "      <th>1</th>\n",
       "      <td>Black</td>\n",
       "      <td>Female</td>\n",
       "      <td>0</td>\n",
       "      <td>0</td>\n",
       "      <td>0</td>\n",
       "    </tr>\n",
       "    <tr>\n",
       "      <th>2</th>\n",
       "      <td>Black</td>\n",
       "      <td>Female</td>\n",
       "      <td>0</td>\n",
       "      <td>0</td>\n",
       "      <td>0</td>\n",
       "    </tr>\n",
       "    <tr>\n",
       "      <th>3</th>\n",
       "      <td>Black</td>\n",
       "      <td>Female</td>\n",
       "      <td>0</td>\n",
       "      <td>0</td>\n",
       "      <td>0</td>\n",
       "    </tr>\n",
       "    <tr>\n",
       "      <th>4</th>\n",
       "      <td>Black</td>\n",
       "      <td>Female</td>\n",
       "      <td>0</td>\n",
       "      <td>0</td>\n",
       "      <td>0</td>\n",
       "    </tr>\n",
       "  </tbody>\n",
       "</table>\n",
       "</div>"
      ],
      "text/plain": [
       "    Race  Gender  Disadvantaged  ESOL  Disabled\n",
       "0  Black  Female              0     0         0\n",
       "1  Black  Female              0     0         0\n",
       "2  Black  Female              0     0         0\n",
       "3  Black  Female              0     0         0\n",
       "4  Black  Female              0     0         0"
      ]
     },
     "execution_count": 186,
     "metadata": {},
     "output_type": "execute_result"
    }
   ],
   "source": [
    "#preparing the data for analysis\n",
    "passed = ed_data.iloc[:,7] #creating a variable for the exam results\n",
    "replace_map = {'Year': {2010:0, 2011:1, 2012:2, 2013:3, 2014:4, 2015:5, 2016:6, 2017:7, 2018:8, 2019:9}}\n",
    "ed_data = ed_data.replace(replace_map) #turning the years into categorical variables\n",
    "replace_map1 = {'School': {'Albemarle':1, 'Charlottesville':2, 'Monticello':3, 'Western':4}} #mapping the schools into categories\n",
    "ed_data = ed_data.replace(replace_map1) #turning the school into a categorical variable\n",
    "year = ed_data['Year'] #creating a variable to store the year\n",
    "school = ed_data['School'] #creating a variable to store the school\n",
    "cols_to_drop = ['Year', 'Passed', 'School'] #dropping year, school and exam results from the main dataset since they are being stored separately\n",
    "ed_data = ed_data.drop(cols_to_drop, axis=1)\n",
    "ed_data.head()"
   ]
  },
  {
   "cell_type": "code",
   "execution_count": 187,
   "metadata": {},
   "outputs": [
    {
     "data": {
      "text/html": [
       "<div>\n",
       "<style scoped>\n",
       "    .dataframe tbody tr th:only-of-type {\n",
       "        vertical-align: middle;\n",
       "    }\n",
       "\n",
       "    .dataframe tbody tr th {\n",
       "        vertical-align: top;\n",
       "    }\n",
       "\n",
       "    .dataframe thead th {\n",
       "        text-align: right;\n",
       "    }\n",
       "</style>\n",
       "<table border=\"1\" class=\"dataframe\">\n",
       "  <thead>\n",
       "    <tr style=\"text-align: right;\">\n",
       "      <th></th>\n",
       "      <th>Black</th>\n",
       "      <th>Hispanic</th>\n",
       "      <th>Other</th>\n",
       "      <th>White</th>\n",
       "      <th>Female</th>\n",
       "      <th>Male</th>\n",
       "    </tr>\n",
       "  </thead>\n",
       "  <tbody>\n",
       "    <tr>\n",
       "      <th>0</th>\n",
       "      <td>1</td>\n",
       "      <td>0</td>\n",
       "      <td>0</td>\n",
       "      <td>0</td>\n",
       "      <td>1</td>\n",
       "      <td>0</td>\n",
       "    </tr>\n",
       "    <tr>\n",
       "      <th>1</th>\n",
       "      <td>1</td>\n",
       "      <td>0</td>\n",
       "      <td>0</td>\n",
       "      <td>0</td>\n",
       "      <td>1</td>\n",
       "      <td>0</td>\n",
       "    </tr>\n",
       "    <tr>\n",
       "      <th>2</th>\n",
       "      <td>1</td>\n",
       "      <td>0</td>\n",
       "      <td>0</td>\n",
       "      <td>0</td>\n",
       "      <td>1</td>\n",
       "      <td>0</td>\n",
       "    </tr>\n",
       "    <tr>\n",
       "      <th>3</th>\n",
       "      <td>1</td>\n",
       "      <td>0</td>\n",
       "      <td>0</td>\n",
       "      <td>0</td>\n",
       "      <td>1</td>\n",
       "      <td>0</td>\n",
       "    </tr>\n",
       "    <tr>\n",
       "      <th>4</th>\n",
       "      <td>1</td>\n",
       "      <td>0</td>\n",
       "      <td>0</td>\n",
       "      <td>0</td>\n",
       "      <td>1</td>\n",
       "      <td>0</td>\n",
       "    </tr>\n",
       "  </tbody>\n",
       "</table>\n",
       "</div>"
      ],
      "text/plain": [
       "   Black  Hispanic  Other  White  Female  Male\n",
       "0      1         0      0      0       1     0\n",
       "1      1         0      0      0       1     0\n",
       "2      1         0      0      0       1     0\n",
       "3      1         0      0      0       1     0\n",
       "4      1         0      0      0       1     0"
      ]
     },
     "execution_count": 187,
     "metadata": {},
     "output_type": "execute_result"
    }
   ],
   "source": [
    "#making the first two columns into dummies\n",
    "test = []\n",
    "for i in range(0,2): \n",
    "    test.append(pd.get_dummies(ed_data.iloc[:,i]))\n",
    "\n",
    "dummies = test[0] \n",
    "for i in range(1,2): #combining all of the dummy variables into a single dataframe\n",
    "    dummies = pd.concat([dummies, test[i]], axis=1)\n",
    "dummies.head()"
   ]
  },
  {
   "cell_type": "code",
   "execution_count": 188,
   "metadata": {},
   "outputs": [
    {
     "data": {
      "text/html": [
       "<div>\n",
       "<style scoped>\n",
       "    .dataframe tbody tr th:only-of-type {\n",
       "        vertical-align: middle;\n",
       "    }\n",
       "\n",
       "    .dataframe tbody tr th {\n",
       "        vertical-align: top;\n",
       "    }\n",
       "\n",
       "    .dataframe thead th {\n",
       "        text-align: right;\n",
       "    }\n",
       "</style>\n",
       "<table border=\"1\" class=\"dataframe\">\n",
       "  <thead>\n",
       "    <tr style=\"text-align: right;\">\n",
       "      <th></th>\n",
       "      <th>Disadvantaged</th>\n",
       "      <th>ESOL</th>\n",
       "      <th>Disabled</th>\n",
       "      <th>Black</th>\n",
       "      <th>Hispanic</th>\n",
       "      <th>Other</th>\n",
       "      <th>White</th>\n",
       "      <th>Female</th>\n",
       "      <th>Male</th>\n",
       "    </tr>\n",
       "  </thead>\n",
       "  <tbody>\n",
       "    <tr>\n",
       "      <th>0</th>\n",
       "      <td>0</td>\n",
       "      <td>0</td>\n",
       "      <td>0</td>\n",
       "      <td>1</td>\n",
       "      <td>0</td>\n",
       "      <td>0</td>\n",
       "      <td>0</td>\n",
       "      <td>1</td>\n",
       "      <td>0</td>\n",
       "    </tr>\n",
       "    <tr>\n",
       "      <th>1</th>\n",
       "      <td>0</td>\n",
       "      <td>0</td>\n",
       "      <td>0</td>\n",
       "      <td>1</td>\n",
       "      <td>0</td>\n",
       "      <td>0</td>\n",
       "      <td>0</td>\n",
       "      <td>1</td>\n",
       "      <td>0</td>\n",
       "    </tr>\n",
       "    <tr>\n",
       "      <th>2</th>\n",
       "      <td>0</td>\n",
       "      <td>0</td>\n",
       "      <td>0</td>\n",
       "      <td>1</td>\n",
       "      <td>0</td>\n",
       "      <td>0</td>\n",
       "      <td>0</td>\n",
       "      <td>1</td>\n",
       "      <td>0</td>\n",
       "    </tr>\n",
       "    <tr>\n",
       "      <th>3</th>\n",
       "      <td>0</td>\n",
       "      <td>0</td>\n",
       "      <td>0</td>\n",
       "      <td>1</td>\n",
       "      <td>0</td>\n",
       "      <td>0</td>\n",
       "      <td>0</td>\n",
       "      <td>1</td>\n",
       "      <td>0</td>\n",
       "    </tr>\n",
       "    <tr>\n",
       "      <th>4</th>\n",
       "      <td>0</td>\n",
       "      <td>0</td>\n",
       "      <td>0</td>\n",
       "      <td>1</td>\n",
       "      <td>0</td>\n",
       "      <td>0</td>\n",
       "      <td>0</td>\n",
       "      <td>1</td>\n",
       "      <td>0</td>\n",
       "    </tr>\n",
       "  </tbody>\n",
       "</table>\n",
       "</div>"
      ],
      "text/plain": [
       "   Disadvantaged  ESOL  Disabled  Black  Hispanic  Other  White  Female  Male\n",
       "0              0     0         0      1         0      0      0       1     0\n",
       "1              0     0         0      1         0      0      0       1     0\n",
       "2              0     0         0      1         0      0      0       1     0\n",
       "3              0     0         0      1         0      0      0       1     0\n",
       "4              0     0         0      1         0      0      0       1     0"
      ]
     },
     "execution_count": 188,
     "metadata": {},
     "output_type": "execute_result"
    }
   ],
   "source": [
    "#Removing the old columns that were not dummified, and then adding back in the new dummified columns\n",
    "cols_to_drop = ['Race', 'Gender'] \n",
    "ed_data = ed_data.drop(cols_to_drop, axis=1) \n",
    "\n",
    "ed_data = pd.concat([ed_data, dummies], axis=1)\n",
    "ed_data.head()"
   ]
  },
  {
   "cell_type": "code",
   "execution_count": 189,
   "metadata": {},
   "outputs": [
    {
     "data": {
      "text/html": [
       "<div>\n",
       "<style scoped>\n",
       "    .dataframe tbody tr th:only-of-type {\n",
       "        vertical-align: middle;\n",
       "    }\n",
       "\n",
       "    .dataframe tbody tr th {\n",
       "        vertical-align: top;\n",
       "    }\n",
       "\n",
       "    .dataframe thead th {\n",
       "        text-align: right;\n",
       "    }\n",
       "</style>\n",
       "<table border=\"1\" class=\"dataframe\">\n",
       "  <thead>\n",
       "    <tr style=\"text-align: right;\">\n",
       "      <th></th>\n",
       "      <th>Disadvantaged</th>\n",
       "      <th>ESOL</th>\n",
       "      <th>Disabled</th>\n",
       "      <th>Black</th>\n",
       "      <th>Hispanic</th>\n",
       "      <th>Other</th>\n",
       "      <th>Male</th>\n",
       "    </tr>\n",
       "  </thead>\n",
       "  <tbody>\n",
       "    <tr>\n",
       "      <th>0</th>\n",
       "      <td>0</td>\n",
       "      <td>0</td>\n",
       "      <td>0</td>\n",
       "      <td>1</td>\n",
       "      <td>0</td>\n",
       "      <td>0</td>\n",
       "      <td>0</td>\n",
       "    </tr>\n",
       "    <tr>\n",
       "      <th>1</th>\n",
       "      <td>0</td>\n",
       "      <td>0</td>\n",
       "      <td>0</td>\n",
       "      <td>1</td>\n",
       "      <td>0</td>\n",
       "      <td>0</td>\n",
       "      <td>0</td>\n",
       "    </tr>\n",
       "    <tr>\n",
       "      <th>2</th>\n",
       "      <td>0</td>\n",
       "      <td>0</td>\n",
       "      <td>0</td>\n",
       "      <td>1</td>\n",
       "      <td>0</td>\n",
       "      <td>0</td>\n",
       "      <td>0</td>\n",
       "    </tr>\n",
       "    <tr>\n",
       "      <th>3</th>\n",
       "      <td>0</td>\n",
       "      <td>0</td>\n",
       "      <td>0</td>\n",
       "      <td>1</td>\n",
       "      <td>0</td>\n",
       "      <td>0</td>\n",
       "      <td>0</td>\n",
       "    </tr>\n",
       "    <tr>\n",
       "      <th>4</th>\n",
       "      <td>0</td>\n",
       "      <td>0</td>\n",
       "      <td>0</td>\n",
       "      <td>1</td>\n",
       "      <td>0</td>\n",
       "      <td>0</td>\n",
       "      <td>0</td>\n",
       "    </tr>\n",
       "  </tbody>\n",
       "</table>\n",
       "</div>"
      ],
      "text/plain": [
       "   Disadvantaged  ESOL  Disabled  Black  Hispanic  Other  Male\n",
       "0              0     0         0      1         0      0     0\n",
       "1              0     0         0      1         0      0     0\n",
       "2              0     0         0      1         0      0     0\n",
       "3              0     0         0      1         0      0     0\n",
       "4              0     0         0      1         0      0     0"
      ]
     },
     "execution_count": 189,
     "metadata": {},
     "output_type": "execute_result"
    }
   ],
   "source": [
    "#dropping one dummy for each of the categoricals so we can more easily compare relative results \n",
    "cols_to_drop = ['Female', 'White'] \n",
    "ed_data = ed_data.drop(cols_to_drop, axis=1) \n",
    "ed_data.head()"
   ]
  },
  {
   "cell_type": "code",
   "execution_count": 192,
   "metadata": {},
   "outputs": [],
   "source": [
    "#setting a seed\n",
    "SEED = np.random.seed(287)"
   ]
  },
  {
   "cell_type": "markdown",
   "metadata": {},
   "source": [
    "## Pooled Model - No School"
   ]
  },
  {
   "cell_type": "code",
   "execution_count": 193,
   "metadata": {},
   "outputs": [],
   "source": [
    "with Model() as full_model:\n",
    "    Beta_j = pm.Normal('Betaj',mu=0, sd=1, shape=7)\n",
    "    alpha = pm.Normal('alpha',0,sd=1, shape=1)\n",
    "    theta = alpha + pm.math.dot(Beta_j, ed_data.T)\n",
    "    p = 1 / (1+ np.exp(-theta))\n",
    "    y = pm.Binomial('y', n=1, p=p, observed=passed)"
   ]
  },
  {
   "cell_type": "code",
   "execution_count": 194,
   "metadata": {},
   "outputs": [
    {
     "data": {
      "image/svg+xml": [
       "<?xml version=\"1.0\" encoding=\"UTF-8\" standalone=\"no\"?>\r\n",
       "<!DOCTYPE svg PUBLIC \"-//W3C//DTD SVG 1.1//EN\"\r\n",
       " \"http://www.w3.org/Graphics/SVG/1.1/DTD/svg11.dtd\">\r\n",
       "<!-- Generated by graphviz version 2.38.0 (20140413.2041)\r\n",
       " -->\r\n",
       "<!-- Title: %3 Pages: 1 -->\r\n",
       "<svg width=\"306pt\" height=\"182pt\"\r\n",
       " viewBox=\"0.00 0.00 306.29 182.00\" xmlns=\"http://www.w3.org/2000/svg\" xmlns:xlink=\"http://www.w3.org/1999/xlink\">\r\n",
       "<g id=\"graph0\" class=\"graph\" transform=\"scale(1 1) rotate(0) translate(4 178)\">\r\n",
       "<title>%3</title>\r\n",
       "<polygon fill=\"white\" stroke=\"none\" points=\"-4,4 -4,-178 302.294,-178 302.294,4 -4,4\"/>\r\n",
       "<g id=\"clust1\" class=\"cluster\"><title>cluster7</title>\r\n",
       "<path fill=\"none\" stroke=\"black\" d=\"M20,-91C20,-91 144,-91 144,-91 150,-91 156,-97 156,-103 156,-103 156,-154 156,-154 156,-160 150,-166 144,-166 144,-166 20,-166 20,-166 14,-166 8,-160 8,-154 8,-154 8,-103 8,-103 8,-97 14,-91 20,-91\"/>\r\n",
       "<text text-anchor=\"middle\" x=\"144.5\" y=\"-98.8\" font-family=\"Times New Roman,serif\" font-size=\"14.00\">7</text>\r\n",
       "</g>\r\n",
       "<g id=\"clust2\" class=\"cluster\"><title>cluster6,114</title>\r\n",
       "<path fill=\"none\" stroke=\"black\" d=\"M33,-8C33,-8 139,-8 139,-8 145,-8 151,-14 151,-20 151,-20 151,-71 151,-71 151,-77 145,-83 139,-83 139,-83 33,-83 33,-83 27,-83 21,-77 21,-71 21,-71 21,-20 21,-20 21,-14 27,-8 33,-8\"/>\r\n",
       "<text text-anchor=\"middle\" x=\"127.5\" y=\"-15.8\" font-family=\"Times New Roman,serif\" font-size=\"14.00\">6,114</text>\r\n",
       "</g>\r\n",
       "<!-- Betaj -->\r\n",
       "<g id=\"node1\" class=\"node\"><title>Betaj</title>\r\n",
       "<ellipse fill=\"none\" stroke=\"black\" cx=\"82\" cy=\"-140\" rx=\"65.7887\" ry=\"18\"/>\r\n",
       "<text text-anchor=\"middle\" x=\"82\" y=\"-136.3\" font-family=\"Times New Roman,serif\" font-size=\"14.00\">Betaj ~ Normal</text>\r\n",
       "</g>\r\n",
       "<!-- y -->\r\n",
       "<g id=\"node3\" class=\"node\"><title>y</title>\r\n",
       "<ellipse fill=\"lightgrey\" stroke=\"black\" cx=\"86\" cy=\"-57\" rx=\"56.59\" ry=\"18\"/>\r\n",
       "<text text-anchor=\"middle\" x=\"86\" y=\"-53.3\" font-family=\"Times New Roman,serif\" font-size=\"14.00\">y ~ Binomial</text>\r\n",
       "</g>\r\n",
       "<!-- Betaj&#45;&gt;y -->\r\n",
       "<g id=\"edge1\" class=\"edge\"><title>Betaj&#45;&gt;y</title>\r\n",
       "<path fill=\"none\" stroke=\"black\" d=\"M82.8483,-121.822C83.3733,-111.19 84.059,-97.306 84.6566,-85.2035\"/>\r\n",
       "<polygon fill=\"black\" stroke=\"black\" points=\"88.1553,-85.3137 85.1529,-75.1533 81.1639,-84.9684 88.1553,-85.3137\"/>\r\n",
       "</g>\r\n",
       "<!-- alpha -->\r\n",
       "<g id=\"node2\" class=\"node\"><title>alpha</title>\r\n",
       "<ellipse fill=\"none\" stroke=\"black\" cx=\"232\" cy=\"-140\" rx=\"66.0889\" ry=\"18\"/>\r\n",
       "<text text-anchor=\"middle\" x=\"232\" y=\"-136.3\" font-family=\"Times New Roman,serif\" font-size=\"14.00\">alpha ~ Normal</text>\r\n",
       "</g>\r\n",
       "<!-- alpha&#45;&gt;y -->\r\n",
       "<g id=\"edge2\" class=\"edge\"><title>alpha&#45;&gt;y</title>\r\n",
       "<path fill=\"none\" stroke=\"black\" d=\"M209.911,-122.862C195.967,-113.035 177.367,-100.572 160,-91 150.191,-85.5934 139.324,-80.3575 129.008,-75.7093\"/>\r\n",
       "<polygon fill=\"black\" stroke=\"black\" points=\"130.296,-72.4521 119.734,-71.6177 127.47,-78.8565 130.296,-72.4521\"/>\r\n",
       "</g>\r\n",
       "</g>\r\n",
       "</svg>\r\n"
      ],
      "text/plain": [
       "<graphviz.dot.Digraph at 0x17ea7c88208>"
      ]
     },
     "execution_count": 194,
     "metadata": {},
     "output_type": "execute_result"
    }
   ],
   "source": [
    "pm.model_to_graphviz(full_model)"
   ]
  },
  {
   "cell_type": "code",
   "execution_count": 195,
   "metadata": {},
   "outputs": [
    {
     "name": "stderr",
     "output_type": "stream",
     "text": [
      "Average Loss = 2,659.2: 100%|██████████████████████████████████████████████████| 10000/10000 [1:35:36<00:00,  1.62it/s]\n",
      "Finished [100%]: Average Loss = 2,659.1\n"
     ]
    }
   ],
   "source": [
    "with full_model:\n",
    "    approx = pm.fit(10000, method = 'advi', random_seed = SEED)"
   ]
  },
  {
   "cell_type": "code",
   "execution_count": 196,
   "metadata": {},
   "outputs": [
    {
     "data": {
      "image/png": "[encoded data removed]",
      "text/plain": [
       "<Figure size 432x288 with 1 Axes>"
      ]
     },
     "metadata": {
      "needs_background": "light"
     },
     "output_type": "display_data"
    }
   ],
   "source": [
    "advi_elbo = pd.DataFrame(\n",
    "    {'ELBO': -approx.hist,\n",
    "     'n': np.arange(approx.hist.shape[0])})\n",
    "\n",
    "_ = sns.lineplot(y='ELBO', x='n', data=advi_elbo)"
   ]
  },
  {
   "cell_type": "code",
   "execution_count": 249,
   "metadata": {},
   "outputs": [],
   "source": [
    "mu_3 = approx.mean.eval()\n",
    "std_3 = approx.std.eval()\n",
    "\n",
    "data = {\"Names\":[\"Disadvantaged\", \"ESOL\", \"Disabled\",\"Black\",\"Hispanic\",\"Other\",\"Female\", \"Intercept\"],\n",
    "\"Mean\": mu_3, \"SD\":std_3}\n",
    "results_pooled = pd.DataFrame(data)\n",
    "results_pooled\n",
    "results_pooled.to_csv('pooled_results.csv')"
   ]
  },
  {
   "cell_type": "markdown",
   "metadata": {},
   "source": []
  },
  {
   "cell_type": "code",
   "execution_count": 251,
   "metadata": {},
   "outputs": [
    {
     "data": {
      "image/png": "[encoded data removed]",
      "text/plain": [
       "<Figure size 432x288 with 1 Axes>"
      ]
     },
     "metadata": {},
     "output_type": "display_data"
    },
    {
     "data": {
      "image/png": "[encoded data removed]",
      "text/plain": [
       "<Figure size 432x288 with 1 Axes>"
      ]
     },
     "metadata": {},
     "output_type": "display_data"
    },
    {
     "data": {
      "image/png": "[encoded data removed]",
      "text/plain": [
       "<Figure size 432x288 with 1 Axes>"
      ]
     },
     "metadata": {},
     "output_type": "display_data"
    },
    {
     "data": {
      "image/png": "[encoded data removed]",
      "text/plain": [
       "<Figure size 432x288 with 1 Axes>"
      ]
     },
     "metadata": {},
     "output_type": "display_data"
    },
    {
     "data": {
      "image/png": "[encoded data removed]",
      "text/plain": [
       "<Figure size 432x288 with 1 Axes>"
      ]
     },
     "metadata": {},
     "output_type": "display_data"
    },
    {
     "data": {
      "image/png": "[encoded data removed]",
      "text/plain": [
       "<Figure size 432x288 with 1 Axes>"
      ]
     },
     "metadata": {},
     "output_type": "display_data"
    },
    {
     "data": {
      "image/png": "[encoded data removed]",
      "text/plain": [
       "<Figure size 432x288 with 1 Axes>"
      ]
     },
     "metadata": {},
     "output_type": "display_data"
    },
    {
     "data": {
      "image/png": "[encoded data removed]",
      "text/plain": [
       "<Figure size 432x288 with 1 Axes>"
      ]
     },
     "metadata": {},
     "output_type": "display_data"
    }
   ],
   "source": [
    "for i in range(0,8):\n",
    "    sns.set_style(\"darkgrid\")\n",
    "    mu_test = mu_3[i]\n",
    "    sd_test = std_3[i]\n",
    "    x_data = np.linspace((mu_test-sd_test*3),(mu_test+sd_test*3),200)\n",
    "\n",
    "    plt.plot(x_data,stats.norm.pdf(x_data, mu_test, sd_test))\n",
    "    plt.vlines(x=(mu_test + sd_test * 1.96), ymin=0, ymax=2, color='green')\n",
    "    plt.vlines(x=(mu_test - sd_test * 1.96), ymin=0, ymax=2, color='green')\n",
    "    plt.show()\n"
   ]
  },
  {
   "cell_type": "code",
   "execution_count": 211,
   "metadata": {},
   "outputs": [
    {
     "data": {
      "text/plain": [
       "0.6505090947233165"
      ]
     },
     "execution_count": 211,
     "metadata": {},
     "output_type": "execute_result"
    }
   ],
   "source": [
    "np.exp(-.43)"
   ]
  },
  {
   "cell_type": "code",
   "execution_count": null,
   "metadata": {},
   "outputs": [],
   "source": []
  },
  {
   "cell_type": "markdown",
   "metadata": {},
   "source": [
    "## Unpooled Model"
   ]
  },
  {
   "cell_type": "code",
   "execution_count": 145,
   "metadata": {},
   "outputs": [
    {
     "data": {
      "text/html": [
       "<div>\n",
       "<style scoped>\n",
       "    .dataframe tbody tr th:only-of-type {\n",
       "        vertical-align: middle;\n",
       "    }\n",
       "\n",
       "    .dataframe tbody tr th {\n",
       "        vertical-align: top;\n",
       "    }\n",
       "\n",
       "    .dataframe thead th {\n",
       "        text-align: right;\n",
       "    }\n",
       "</style>\n",
       "<table border=\"1\" class=\"dataframe\">\n",
       "  <thead>\n",
       "    <tr style=\"text-align: right;\">\n",
       "      <th></th>\n",
       "      <th>Albemarle</th>\n",
       "      <th>Charlottesville</th>\n",
       "      <th>Monticello</th>\n",
       "      <th>Western</th>\n",
       "      <th>Black</th>\n",
       "      <th>Hispanic</th>\n",
       "      <th>Other</th>\n",
       "      <th>White</th>\n",
       "      <th>Female</th>\n",
       "      <th>Male</th>\n",
       "    </tr>\n",
       "  </thead>\n",
       "  <tbody>\n",
       "    <tr>\n",
       "      <th>0</th>\n",
       "      <td>1</td>\n",
       "      <td>0</td>\n",
       "      <td>0</td>\n",
       "      <td>0</td>\n",
       "      <td>1</td>\n",
       "      <td>0</td>\n",
       "      <td>0</td>\n",
       "      <td>0</td>\n",
       "      <td>1</td>\n",
       "      <td>0</td>\n",
       "    </tr>\n",
       "    <tr>\n",
       "      <th>1</th>\n",
       "      <td>1</td>\n",
       "      <td>0</td>\n",
       "      <td>0</td>\n",
       "      <td>0</td>\n",
       "      <td>1</td>\n",
       "      <td>0</td>\n",
       "      <td>0</td>\n",
       "      <td>0</td>\n",
       "      <td>1</td>\n",
       "      <td>0</td>\n",
       "    </tr>\n",
       "    <tr>\n",
       "      <th>2</th>\n",
       "      <td>1</td>\n",
       "      <td>0</td>\n",
       "      <td>0</td>\n",
       "      <td>0</td>\n",
       "      <td>1</td>\n",
       "      <td>0</td>\n",
       "      <td>0</td>\n",
       "      <td>0</td>\n",
       "      <td>1</td>\n",
       "      <td>0</td>\n",
       "    </tr>\n",
       "    <tr>\n",
       "      <th>3</th>\n",
       "      <td>1</td>\n",
       "      <td>0</td>\n",
       "      <td>0</td>\n",
       "      <td>0</td>\n",
       "      <td>1</td>\n",
       "      <td>0</td>\n",
       "      <td>0</td>\n",
       "      <td>0</td>\n",
       "      <td>1</td>\n",
       "      <td>0</td>\n",
       "    </tr>\n",
       "    <tr>\n",
       "      <th>4</th>\n",
       "      <td>1</td>\n",
       "      <td>0</td>\n",
       "      <td>0</td>\n",
       "      <td>0</td>\n",
       "      <td>1</td>\n",
       "      <td>0</td>\n",
       "      <td>0</td>\n",
       "      <td>0</td>\n",
       "      <td>1</td>\n",
       "      <td>0</td>\n",
       "    </tr>\n",
       "  </tbody>\n",
       "</table>\n",
       "</div>"
      ],
      "text/plain": [
       "   Albemarle  Charlottesville  Monticello  Western  Black  Hispanic  Other  \\\n",
       "0          1                0           0        0      1         0      0   \n",
       "1          1                0           0        0      1         0      0   \n",
       "2          1                0           0        0      1         0      0   \n",
       "3          1                0           0        0      1         0      0   \n",
       "4          1                0           0        0      1         0      0   \n",
       "\n",
       "   White  Female  Male  \n",
       "0      0       1     0  \n",
       "1      0       1     0  \n",
       "2      0       1     0  \n",
       "3      0       1     0  \n",
       "4      0       1     0  "
      ]
     },
     "execution_count": 145,
     "metadata": {},
     "output_type": "execute_result"
    }
   ],
   "source": [
    "#preparing the data for the unpooled model \n",
    "#splitting off disability and disadvantaged\n",
    "disadv = ed_data['Disadvantaged']\n",
    "disabled = ed_data['Disabled']\n",
    "cols_to_drop = ['Disabled', 'Disadvantaged'] \n",
    "ed_data2 = ed_data.drop(cols_to_drop, axis=1) \n",
    "ed_data2.head()"
   ]
  },
  {
   "cell_type": "code",
   "execution_count": null,
   "metadata": {},
   "outputs": [],
   "source": [
    "schoolyear = []\n",
    "for "
   ]
  },
  {
   "cell_type": "code",
   "execution_count": 147,
   "metadata": {},
   "outputs": [],
   "source": [
    "with Model() as unpooled_model:\n",
    "    alpha = pm.Normal('alpha',0,sd=1, shape=40)\n",
    "    Beta1 = pm.Normal('Beta1',mu=0, sd=1, shape=40)\n",
    "    Beta2 = pm.Normal('Beta2',mu=0, sd=1, shape=40)\n",
    "    Betaj = pm.Normal('Betaj',mu=0, sd=1, shape=5)\n",
    "    theta = alpha[year] + Beta1[year]*disadv + Beta2[year]*disabled + Beta3[year]*ESOL + pm.math.dot(Betaj, ed_data2.T)\n",
    "    p = 1 / (1+ np.exp(-theta))\n",
    "    y = pm.Binomial('y', n=1, p=p, observed=passed)"
   ]
  },
  {
   "cell_type": "code",
   "execution_count": 151,
   "metadata": {},
   "outputs": [
    {
     "data": {
      "image/svg+xml": [
       "<?xml version=\"1.0\" encoding=\"UTF-8\" standalone=\"no\"?>\r\n",
       "<!DOCTYPE svg PUBLIC \"-//W3C//DTD SVG 1.1//EN\"\r\n",
       " \"http://www.w3.org/Graphics/SVG/1.1/DTD/svg11.dtd\">\r\n",
       "<!-- Generated by graphviz version 2.38.0 (20140413.2041)\r\n",
       " -->\r\n",
       "<!-- Title: %3 Pages: 1 -->\r\n",
       "<svg width=\"782pt\" height=\"182pt\"\r\n",
       " viewBox=\"0.00 0.00 782.00 182.00\" xmlns=\"http://www.w3.org/2000/svg\" xmlns:xlink=\"http://www.w3.org/1999/xlink\">\r\n",
       "<g id=\"graph0\" class=\"graph\" transform=\"scale(1 1) rotate(0) translate(4 178)\">\r\n",
       "<title>%3</title>\r\n",
       "<polygon fill=\"white\" stroke=\"none\" points=\"-4,4 -4,-178 778,-178 778,4 -4,4\"/>\r\n",
       "<g id=\"clust1\" class=\"cluster\"><title>cluster10</title>\r\n",
       "<path fill=\"none\" stroke=\"black\" d=\"M20,-91C20,-91 754,-91 754,-91 760,-91 766,-97 766,-103 766,-103 766,-154 766,-154 766,-160 760,-166 754,-166 754,-166 20,-166 20,-166 14,-166 8,-160 8,-154 8,-154 8,-103 8,-103 8,-97 14,-91 20,-91\"/>\r\n",
       "<text text-anchor=\"middle\" x=\"751\" y=\"-98.8\" font-family=\"Times New Roman,serif\" font-size=\"14.00\">10</text>\r\n",
       "</g>\r\n",
       "<g id=\"clust2\" class=\"cluster\"><title>cluster6,114</title>\r\n",
       "<path fill=\"none\" stroke=\"black\" d=\"M336,-8C336,-8 442,-8 442,-8 448,-8 454,-14 454,-20 454,-20 454,-71 454,-71 454,-77 448,-83 442,-83 442,-83 336,-83 336,-83 330,-83 324,-77 324,-71 324,-71 324,-20 324,-20 324,-14 330,-8 336,-8\"/>\r\n",
       "<text text-anchor=\"middle\" x=\"430.5\" y=\"-15.8\" font-family=\"Times New Roman,serif\" font-size=\"14.00\">6,114</text>\r\n",
       "</g>\r\n",
       "<!-- Beta1 -->\r\n",
       "<g id=\"node1\" class=\"node\"><title>Beta1</title>\r\n",
       "<ellipse fill=\"none\" stroke=\"black\" cx=\"690\" cy=\"-140\" rx=\"67.6881\" ry=\"18\"/>\r\n",
       "<text text-anchor=\"middle\" x=\"690\" y=\"-136.3\" font-family=\"Times New Roman,serif\" font-size=\"14.00\">Beta1 ~ Normal</text>\r\n",
       "</g>\r\n",
       "<!-- y -->\r\n",
       "<g id=\"node6\" class=\"node\"><title>y</title>\r\n",
       "<ellipse fill=\"lightgrey\" stroke=\"black\" cx=\"389\" cy=\"-57\" rx=\"56.59\" ry=\"18\"/>\r\n",
       "<text text-anchor=\"middle\" x=\"389\" y=\"-53.3\" font-family=\"Times New Roman,serif\" font-size=\"14.00\">y ~ Binomial</text>\r\n",
       "</g>\r\n",
       "<!-- Beta1&#45;&gt;y -->\r\n",
       "<g id=\"edge1\" class=\"edge\"><title>Beta1&#45;&gt;y</title>\r\n",
       "<path fill=\"none\" stroke=\"black\" d=\"M669.634,-122.804C655.001,-112.033 634.343,-98.5292 614,-91 562.71,-72.0175 501.048,-63.9158 455.256,-60.4776\"/>\r\n",
       "<polygon fill=\"black\" stroke=\"black\" points=\"455.368,-56.9771 445.149,-59.7749 454.882,-63.9602 455.368,-56.9771\"/>\r\n",
       "</g>\r\n",
       "<!-- Betaj -->\r\n",
       "<g id=\"node2\" class=\"node\"><title>Betaj</title>\r\n",
       "<ellipse fill=\"none\" stroke=\"black\" cx=\"539\" cy=\"-140\" rx=\"65.7887\" ry=\"18\"/>\r\n",
       "<text text-anchor=\"middle\" x=\"539\" y=\"-136.3\" font-family=\"Times New Roman,serif\" font-size=\"14.00\">Betaj ~ Normal</text>\r\n",
       "</g>\r\n",
       "<!-- Betaj&#45;&gt;y -->\r\n",
       "<g id=\"edge2\" class=\"edge\"><title>Betaj&#45;&gt;y</title>\r\n",
       "<path fill=\"none\" stroke=\"black\" d=\"M515.917,-122.908C501.365,-113.099 481.987,-100.638 464,-91 453.92,-85.5987 442.775,-80.3354 432.227,-75.6562\"/>\r\n",
       "<polygon fill=\"black\" stroke=\"black\" points=\"433.323,-72.316 422.757,-71.536 430.53,-78.7349 433.323,-72.316\"/>\r\n",
       "</g>\r\n",
       "<!-- alpha -->\r\n",
       "<g id=\"node3\" class=\"node\"><title>alpha</title>\r\n",
       "<ellipse fill=\"none\" stroke=\"black\" cx=\"389\" cy=\"-140\" rx=\"66.0889\" ry=\"18\"/>\r\n",
       "<text text-anchor=\"middle\" x=\"389\" y=\"-136.3\" font-family=\"Times New Roman,serif\" font-size=\"14.00\">alpha ~ Normal</text>\r\n",
       "</g>\r\n",
       "<!-- alpha&#45;&gt;y -->\r\n",
       "<g id=\"edge3\" class=\"edge\"><title>alpha&#45;&gt;y</title>\r\n",
       "<path fill=\"none\" stroke=\"black\" d=\"M389,-121.822C389,-111.19 389,-97.306 389,-85.2035\"/>\r\n",
       "<polygon fill=\"black\" stroke=\"black\" points=\"392.5,-85.1532 389,-75.1533 385.5,-85.1533 392.5,-85.1532\"/>\r\n",
       "</g>\r\n",
       "<!-- Beta3 -->\r\n",
       "<g id=\"node4\" class=\"node\"><title>Beta3</title>\r\n",
       "<ellipse fill=\"none\" stroke=\"black\" cx=\"237\" cy=\"-140\" rx=\"67.6881\" ry=\"18\"/>\r\n",
       "<text text-anchor=\"middle\" x=\"237\" y=\"-136.3\" font-family=\"Times New Roman,serif\" font-size=\"14.00\">Beta3 ~ Normal</text>\r\n",
       "</g>\r\n",
       "<!-- Beta3&#45;&gt;y -->\r\n",
       "<g id=\"edge4\" class=\"edge\"><title>Beta3&#45;&gt;y</title>\r\n",
       "<path fill=\"none\" stroke=\"black\" d=\"M260.755,-122.96C275.716,-113.17 295.614,-100.712 314,-91 324.112,-85.6586 335.269,-80.4177 345.818,-75.7409\"/>\r\n",
       "<polygon fill=\"black\" stroke=\"black\" points=\"347.515,-78.8191 355.287,-71.6177 344.721,-72.4011 347.515,-78.8191\"/>\r\n",
       "</g>\r\n",
       "<!-- Beta2 -->\r\n",
       "<g id=\"node5\" class=\"node\"><title>Beta2</title>\r\n",
       "<ellipse fill=\"none\" stroke=\"black\" cx=\"84\" cy=\"-140\" rx=\"67.6881\" ry=\"18\"/>\r\n",
       "<text text-anchor=\"middle\" x=\"84\" y=\"-136.3\" font-family=\"Times New Roman,serif\" font-size=\"14.00\">Beta2 ~ Normal</text>\r\n",
       "</g>\r\n",
       "<!-- Beta2&#45;&gt;y -->\r\n",
       "<g id=\"edge5\" class=\"edge\"><title>Beta2&#45;&gt;y</title>\r\n",
       "<path fill=\"none\" stroke=\"black\" d=\"M104.36,-122.788C118.99,-112.01 139.647,-98.5036 160,-91 212.667,-71.5826 276.074,-63.5309 322.8,-60.2223\"/>\r\n",
       "<polygon fill=\"black\" stroke=\"black\" points=\"323.055,-63.7132 332.806,-59.568 322.598,-56.7281 323.055,-63.7132\"/>\r\n",
       "</g>\r\n",
       "</g>\r\n",
       "</svg>\r\n"
      ],
      "text/plain": [
       "<graphviz.dot.Digraph at 0x17ea5d76cc0>"
      ]
     },
     "execution_count": 151,
     "metadata": {},
     "output_type": "execute_result"
    }
   ],
   "source": [
    "pm.model_to_graphviz(unpooled_model)"
   ]
  },
  {
   "cell_type": "code",
   "execution_count": 149,
   "metadata": {},
   "outputs": [
    {
     "name": "stderr",
     "output_type": "stream",
     "text": [
      "Average Loss = 5,404.2: 100%|████████████████████████████████████████████████████████| 100/100 [01:39<00:00,  1.01it/s]\n",
      "Finished [100%]: Average Loss = 5,508.9\n"
     ]
    }
   ],
   "source": [
    "with unpooled_model:\n",
    "    unpooled_approx = pm.fit(100, method = 'advi')"
   ]
  },
  {
   "cell_type": "code",
   "execution_count": 141,
   "metadata": {},
   "outputs": [],
   "source": [
    "mu_4 = unpooled_approx.mean.eval()\n",
    "std_4 = approx.std.eval()"
   ]
  },
  {
   "cell_type": "code",
   "execution_count": 144,
   "metadata": {},
   "outputs": [
    {
     "data": {
      "text/plain": [
       "array([ 0.03077307,  0.02889703,  0.02070913,  0.02878184,  0.01941814,\n",
       "        0.02540641,  0.0006255 , -0.00282084, -0.00254857, -0.0020863 ,\n",
       "        0.0312756 ,  0.03125312,  0.02964912,  0.03005573,  0.03008153,\n",
       "        0.02960707,  0.03165916,  0.02894311,  0.02882144,  0.02895938,\n",
       "        0.00213091, -0.00052741, -0.00022178, -0.00167713, -0.00063213,\n",
       "        0.00246938, -0.00122806,  0.02457464, -0.00488392,  0.00089477,\n",
       "        0.0263571 ,  0.02357971,  0.00623517,  0.00774062,  0.02164175,\n",
       "        0.01163721,  0.01683604,  0.00384095,  0.0034788 ,  0.01828315])"
      ]
     },
     "execution_count": 144,
     "metadata": {},
     "output_type": "execute_result"
    }
   ],
   "source": [
    "unpooled_approx.mean.eval()"
   ]
  },
  {
   "cell_type": "markdown",
   "metadata": {},
   "source": [
    "## Pooled Test"
   ]
  },
  {
   "cell_type": "code",
   "execution_count": 150,
   "metadata": {},
   "outputs": [
    {
     "data": {
      "text/html": [
       "<div>\n",
       "<style scoped>\n",
       "    .dataframe tbody tr th:only-of-type {\n",
       "        vertical-align: middle;\n",
       "    }\n",
       "\n",
       "    .dataframe tbody tr th {\n",
       "        vertical-align: top;\n",
       "    }\n",
       "\n",
       "    .dataframe thead th {\n",
       "        text-align: right;\n",
       "    }\n",
       "</style>\n",
       "<table border=\"1\" class=\"dataframe\">\n",
       "  <thead>\n",
       "    <tr style=\"text-align: right;\">\n",
       "      <th></th>\n",
       "      <th>Disadvantaged</th>\n",
       "      <th>ESOL</th>\n",
       "      <th>Disabled</th>\n",
       "      <th>Albemarle</th>\n",
       "      <th>Charlottesville</th>\n",
       "      <th>Monticello</th>\n",
       "      <th>Black</th>\n",
       "      <th>Hispanic</th>\n",
       "      <th>Other</th>\n",
       "      <th>Female</th>\n",
       "    </tr>\n",
       "  </thead>\n",
       "  <tbody>\n",
       "    <tr>\n",
       "      <th>0</th>\n",
       "      <td>0</td>\n",
       "      <td>0</td>\n",
       "      <td>0</td>\n",
       "      <td>1</td>\n",
       "      <td>0</td>\n",
       "      <td>0</td>\n",
       "      <td>1</td>\n",
       "      <td>0</td>\n",
       "      <td>0</td>\n",
       "      <td>1</td>\n",
       "    </tr>\n",
       "    <tr>\n",
       "      <th>1</th>\n",
       "      <td>0</td>\n",
       "      <td>0</td>\n",
       "      <td>0</td>\n",
       "      <td>1</td>\n",
       "      <td>0</td>\n",
       "      <td>0</td>\n",
       "      <td>1</td>\n",
       "      <td>0</td>\n",
       "      <td>0</td>\n",
       "      <td>1</td>\n",
       "    </tr>\n",
       "    <tr>\n",
       "      <th>2</th>\n",
       "      <td>0</td>\n",
       "      <td>0</td>\n",
       "      <td>0</td>\n",
       "      <td>1</td>\n",
       "      <td>0</td>\n",
       "      <td>0</td>\n",
       "      <td>1</td>\n",
       "      <td>0</td>\n",
       "      <td>0</td>\n",
       "      <td>1</td>\n",
       "    </tr>\n",
       "    <tr>\n",
       "      <th>3</th>\n",
       "      <td>0</td>\n",
       "      <td>0</td>\n",
       "      <td>0</td>\n",
       "      <td>1</td>\n",
       "      <td>0</td>\n",
       "      <td>0</td>\n",
       "      <td>1</td>\n",
       "      <td>0</td>\n",
       "      <td>0</td>\n",
       "      <td>1</td>\n",
       "    </tr>\n",
       "    <tr>\n",
       "      <th>4</th>\n",
       "      <td>0</td>\n",
       "      <td>0</td>\n",
       "      <td>0</td>\n",
       "      <td>1</td>\n",
       "      <td>0</td>\n",
       "      <td>0</td>\n",
       "      <td>1</td>\n",
       "      <td>0</td>\n",
       "      <td>0</td>\n",
       "      <td>1</td>\n",
       "    </tr>\n",
       "  </tbody>\n",
       "</table>\n",
       "</div>"
      ],
      "text/plain": [
       "   Disadvantaged  ESOL  Disabled  Albemarle  Charlottesville  Monticello  \\\n",
       "0              0     0         0          1                0           0   \n",
       "1              0     0         0          1                0           0   \n",
       "2              0     0         0          1                0           0   \n",
       "3              0     0         0          1                0           0   \n",
       "4              0     0         0          1                0           0   \n",
       "\n",
       "   Black  Hispanic  Other  Female  \n",
       "0      1         0      0       1  \n",
       "1      1         0      0       1  \n",
       "2      1         0      0       1  \n",
       "3      1         0      0       1  \n",
       "4      1         0      0       1  "
      ]
     },
     "execution_count": 150,
     "metadata": {},
     "output_type": "execute_result"
    }
   ],
   "source": [
    "cols_to_drop = ['Western', 'White', 'Male'] \n",
    "ed_data_test = ed_data.drop(cols_to_drop, axis=1) \n",
    "ed_data_test.head()"
   ]
  },
  {
   "cell_type": "code",
   "execution_count": 155,
   "metadata": {},
   "outputs": [],
   "source": [
    "with Model() as full_model_1:\n",
    "    Beta_j = pm.Normal('Betaj',mu=0, sd=1, shape=10)\n",
    "    alpha = pm.Normal('alpha',0,sd=1, shape=1)\n",
    "    theta = alpha + pm.math.dot(Beta_j, ed_data_test.T)\n",
    "    p = 1 / (1+ np.exp(-theta))\n",
    "    y = pm.Binomial('y', n=1, p=p, observed=passed)"
   ]
  },
  {
   "cell_type": "code",
   "execution_count": 156,
   "metadata": {},
   "outputs": [
    {
     "data": {
      "image/svg+xml": [
       "<?xml version=\"1.0\" encoding=\"UTF-8\" standalone=\"no\"?>\r\n",
       "<!DOCTYPE svg PUBLIC \"-//W3C//DTD SVG 1.1//EN\"\r\n",
       " \"http://www.w3.org/Graphics/SVG/1.1/DTD/svg11.dtd\">\r\n",
       "<!-- Generated by graphviz version 2.38.0 (20140413.2041)\r\n",
       " -->\r\n",
       "<!-- Title: %3 Pages: 1 -->\r\n",
       "<svg width=\"306pt\" height=\"182pt\"\r\n",
       " viewBox=\"0.00 0.00 306.29 182.00\" xmlns=\"http://www.w3.org/2000/svg\" xmlns:xlink=\"http://www.w3.org/1999/xlink\">\r\n",
       "<g id=\"graph0\" class=\"graph\" transform=\"scale(1 1) rotate(0) translate(4 178)\">\r\n",
       "<title>%3</title>\r\n",
       "<polygon fill=\"white\" stroke=\"none\" points=\"-4,4 -4,-178 302.294,-178 302.294,4 -4,4\"/>\r\n",
       "<g id=\"clust1\" class=\"cluster\"><title>cluster10</title>\r\n",
       "<path fill=\"none\" stroke=\"black\" d=\"M20,-91C20,-91 144,-91 144,-91 150,-91 156,-97 156,-103 156,-103 156,-154 156,-154 156,-160 150,-166 144,-166 144,-166 20,-166 20,-166 14,-166 8,-160 8,-154 8,-154 8,-103 8,-103 8,-97 14,-91 20,-91\"/>\r\n",
       "<text text-anchor=\"middle\" x=\"141\" y=\"-98.8\" font-family=\"Times New Roman,serif\" font-size=\"14.00\">10</text>\r\n",
       "</g>\r\n",
       "<g id=\"clust2\" class=\"cluster\"><title>cluster6,114</title>\r\n",
       "<path fill=\"none\" stroke=\"black\" d=\"M33,-8C33,-8 139,-8 139,-8 145,-8 151,-14 151,-20 151,-20 151,-71 151,-71 151,-77 145,-83 139,-83 139,-83 33,-83 33,-83 27,-83 21,-77 21,-71 21,-71 21,-20 21,-20 21,-14 27,-8 33,-8\"/>\r\n",
       "<text text-anchor=\"middle\" x=\"127.5\" y=\"-15.8\" font-family=\"Times New Roman,serif\" font-size=\"14.00\">6,114</text>\r\n",
       "</g>\r\n",
       "<!-- Betaj -->\r\n",
       "<g id=\"node1\" class=\"node\"><title>Betaj</title>\r\n",
       "<ellipse fill=\"none\" stroke=\"black\" cx=\"82\" cy=\"-140\" rx=\"65.7887\" ry=\"18\"/>\r\n",
       "<text text-anchor=\"middle\" x=\"82\" y=\"-136.3\" font-family=\"Times New Roman,serif\" font-size=\"14.00\">Betaj ~ Normal</text>\r\n",
       "</g>\r\n",
       "<!-- y -->\r\n",
       "<g id=\"node3\" class=\"node\"><title>y</title>\r\n",
       "<ellipse fill=\"lightgrey\" stroke=\"black\" cx=\"86\" cy=\"-57\" rx=\"56.59\" ry=\"18\"/>\r\n",
       "<text text-anchor=\"middle\" x=\"86\" y=\"-53.3\" font-family=\"Times New Roman,serif\" font-size=\"14.00\">y ~ Binomial</text>\r\n",
       "</g>\r\n",
       "<!-- Betaj&#45;&gt;y -->\r\n",
       "<g id=\"edge1\" class=\"edge\"><title>Betaj&#45;&gt;y</title>\r\n",
       "<path fill=\"none\" stroke=\"black\" d=\"M82.8483,-121.822C83.3733,-111.19 84.059,-97.306 84.6566,-85.2035\"/>\r\n",
       "<polygon fill=\"black\" stroke=\"black\" points=\"88.1553,-85.3137 85.1529,-75.1533 81.1639,-84.9684 88.1553,-85.3137\"/>\r\n",
       "</g>\r\n",
       "<!-- alpha -->\r\n",
       "<g id=\"node2\" class=\"node\"><title>alpha</title>\r\n",
       "<ellipse fill=\"none\" stroke=\"black\" cx=\"232\" cy=\"-140\" rx=\"66.0889\" ry=\"18\"/>\r\n",
       "<text text-anchor=\"middle\" x=\"232\" y=\"-136.3\" font-family=\"Times New Roman,serif\" font-size=\"14.00\">alpha ~ Normal</text>\r\n",
       "</g>\r\n",
       "<!-- alpha&#45;&gt;y -->\r\n",
       "<g id=\"edge2\" class=\"edge\"><title>alpha&#45;&gt;y</title>\r\n",
       "<path fill=\"none\" stroke=\"black\" d=\"M209.911,-122.862C195.967,-113.035 177.367,-100.572 160,-91 150.191,-85.5934 139.324,-80.3575 129.008,-75.7093\"/>\r\n",
       "<polygon fill=\"black\" stroke=\"black\" points=\"130.296,-72.4521 119.734,-71.6177 127.47,-78.8565 130.296,-72.4521\"/>\r\n",
       "</g>\r\n",
       "</g>\r\n",
       "</svg>\r\n"
      ],
      "text/plain": [
       "<graphviz.dot.Digraph at 0x17ea7644a20>"
      ]
     },
     "execution_count": 156,
     "metadata": {},
     "output_type": "execute_result"
    }
   ],
   "source": [
    "pm.model_to_graphviz(full_model_1)"
   ]
  },
  {
   "cell_type": "code",
   "execution_count": 157,
   "metadata": {},
   "outputs": [
    {
     "name": "stderr",
     "output_type": "stream",
     "text": [
      "Average Loss = 2,631.7: 100%|██████████████████████████████████████████████████| 15000/15000 [2:19:15<00:00,  1.78it/s]\n",
      "Finished [100%]: Average Loss = 2,631.7\n"
     ]
    }
   ],
   "source": [
    "with full_model_1:\n",
    "    approx1 = pm.fit(15000, method = 'advi')"
   ]
  },
  {
   "cell_type": "code",
   "execution_count": 158,
   "metadata": {},
   "outputs": [],
   "source": [
    "mu_5 = approx1.mean.eval()\n"
   ]
  },
  {
   "cell_type": "code",
   "execution_count": 159,
   "metadata": {},
   "outputs": [
    {
     "data": {
      "text/plain": [
       "array([-0.95529708,  0.58087836, -0.15436156, -0.0296844 ,  0.21307104,\n",
       "       -0.12793158, -0.84896834, -0.06973478, -0.96578543,  0.11681364,\n",
       "        1.89990384])"
      ]
     },
     "execution_count": 159,
     "metadata": {},
     "output_type": "execute_result"
    }
   ],
   "source": [
    "mu_5"
   ]
  },
  {
   "cell_type": "code",
   "execution_count": 161,
   "metadata": {},
   "outputs": [
    {
     "data": {
      "image/png": "[encoded data removed]",
      "text/plain": [
       "<Figure size 432x288 with 1 Axes>"
      ]
     },
     "metadata": {
      "needs_background": "light"
     },
     "output_type": "display_data"
    }
   ],
   "source": [
    "advi_elbo = pd.DataFrame(\n",
    "    {'ELBO': -approx1.hist,\n",
    "     'n': np.arange(approx1.hist.shape[0])})\n",
    "\n",
    "_ = sns.lineplot(y='ELBO', x='n', data=advi_elbo)\n"
   ]
  },
  {
   "cell_type": "code",
   "execution_count": null,
   "metadata": {},
   "outputs": [],
   "source": []
  }
 ],
 "metadata": {
  "kernelspec": {
   "display_name": "Python 3",
   "language": "python",
   "name": "python3"
  },
  "language_info": {
   "codemirror_mode": {
    "name": "ipython",
    "version": 3
   },
   "file_extension": ".py",
   "mimetype": "text/x-python",
   "name": "python",
   "nbconvert_exporter": "python",
   "pygments_lexer": "ipython3",
   "version": "3.7.3"
  }
 },
 "nbformat": 4,
 "nbformat_minor": 2
}
